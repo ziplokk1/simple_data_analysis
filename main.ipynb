{
 "cells": [
  {
   "cell_type": "code",
   "execution_count": 27,
   "metadata": {
    "collapsed": true
   },
   "outputs": [],
   "source": [
    "import pandas\n",
    "\n",
    "frame = pandas.read_excel('/home/msanders/projects/crime/2020-01-01_2020-04-30.stats.xls')"
   ]
  },
  {
   "cell_type": "code",
   "execution_count": 28,
   "outputs": [
    {
     "data": {
      "text/plain": "0        77078\n1        77031\n2        77017\n3        77081\n4        77033\n         ...  \n65530    77028\n65531    77004\n65532    77074\n65533    77072\n65534    77003\nName: ZIP Code, Length: 65535, dtype: object"
     },
     "execution_count": 28,
     "metadata": {},
     "output_type": "execute_result"
    }
   ],
   "source": [
    "frame.columns.values\n",
    "frame['ZIP Code']"
   ],
   "metadata": {
    "collapsed": false,
    "pycharm": {
     "name": "#%%\n"
    }
   }
  },
  {
   "cell_type": "code",
   "execution_count": 40,
   "outputs": [
    {
     "data": {
      "text/plain": "          offense_count\nzip_code               \n75082                 1\n77002              1245\n77003               578\n77004              1550\n77005               304\n...                 ...\n77701                 1\n78414                 2\n78418                 1\n78501                 1\nnan                 786\n\n[147 rows x 1 columns]",
      "text/html": "<div>\n<style scoped>\n    .dataframe tbody tr th:only-of-type {\n        vertical-align: middle;\n    }\n\n    .dataframe tbody tr th {\n        vertical-align: top;\n    }\n\n    .dataframe thead th {\n        text-align: right;\n    }\n</style>\n<table border=\"1\" class=\"dataframe\">\n  <thead>\n    <tr style=\"text-align: right;\">\n      <th></th>\n      <th>offense_count</th>\n    </tr>\n    <tr>\n      <th>zip_code</th>\n      <th></th>\n    </tr>\n  </thead>\n  <tbody>\n    <tr>\n      <th>75082</th>\n      <td>1</td>\n    </tr>\n    <tr>\n      <th>77002</th>\n      <td>1245</td>\n    </tr>\n    <tr>\n      <th>77003</th>\n      <td>578</td>\n    </tr>\n    <tr>\n      <th>77004</th>\n      <td>1550</td>\n    </tr>\n    <tr>\n      <th>77005</th>\n      <td>304</td>\n    </tr>\n    <tr>\n      <th>...</th>\n      <td>...</td>\n    </tr>\n    <tr>\n      <th>77701</th>\n      <td>1</td>\n    </tr>\n    <tr>\n      <th>78414</th>\n      <td>2</td>\n    </tr>\n    <tr>\n      <th>78418</th>\n      <td>1</td>\n    </tr>\n    <tr>\n      <th>78501</th>\n      <td>1</td>\n    </tr>\n    <tr>\n      <th>nan</th>\n      <td>786</td>\n    </tr>\n  </tbody>\n</table>\n<p>147 rows × 1 columns</p>\n</div>"
     },
     "execution_count": 40,
     "metadata": {},
     "output_type": "execute_result"
    }
   ],
   "source": [
    "# Remove dashes from zip-codes\n",
    "def clean_zip(z):\n",
    "    return str(z).split('-')[0]\n",
    "\n",
    "frame['zip_code'] = frame['ZIP Code'].apply(clean_zip)\n",
    "grouped = frame.groupby('zip_code').sum()\n",
    "grouped = pandas.DataFrame(grouped[['Offense\\nCount']])\n",
    "grouped = grouped.rename(columns={'Offense\\nCount': 'offense_count'})\n",
    "grouped.dropna(inplace=True)\n",
    "grouped\n"
   ],
   "metadata": {
    "collapsed": false,
    "pycharm": {
     "name": "#%%\n"
    }
   }
  }
 ],
 "metadata": {
  "kernelspec": {
   "name": "python3",
   "language": "python",
   "display_name": "Python 3"
  },
  "language_info": {
   "codemirror_mode": {
    "name": "ipython",
    "version": 2
   },
   "file_extension": ".py",
   "mimetype": "text/x-python",
   "name": "python",
   "nbconvert_exporter": "python",
   "pygments_lexer": "ipython2",
   "version": "2.7.6"
  }
 },
 "nbformat": 4,
 "nbformat_minor": 0
}