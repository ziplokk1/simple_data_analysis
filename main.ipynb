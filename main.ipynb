{
 "cells": [
  {
   "cell_type": "code",
   "execution_count": 38,
   "metadata": {
    "collapsed": true,
    "pycharm": {
     "is_executing": false
    }
   },
   "outputs": [],
   "source": [
    "import pandas\n",
    "import os\n",
    "\n",
    "fp = os.path.join(os.path.abspath(''), '2020-01-01_2020-04-30.stats.xls')\n",
    "frame = pandas.read_excel(fp)\n"
   ]
  },
  {
   "cell_type": "code",
   "execution_count": 39,
   "outputs": [
    {
     "data": {
      "text/plain": "          offense_count\nzip_code               \n75082                 1\n77002              1245\n77003               578\n77004              1550\n77005               304\n...                 ...\n77701                 1\n78414                 2\n78418                 1\n78501                 1\nnan                 786\n\n[147 rows x 1 columns]",
      "text/html": "<div>\n<style scoped>\n    .dataframe tbody tr th:only-of-type {\n        vertical-align: middle;\n    }\n\n    .dataframe tbody tr th {\n        vertical-align: top;\n    }\n\n    .dataframe thead th {\n        text-align: right;\n    }\n</style>\n<table border=\"1\" class=\"dataframe\">\n  <thead>\n    <tr style=\"text-align: right;\">\n      <th></th>\n      <th>offense_count</th>\n    </tr>\n    <tr>\n      <th>zip_code</th>\n      <th></th>\n    </tr>\n  </thead>\n  <tbody>\n    <tr>\n      <th>75082</th>\n      <td>1</td>\n    </tr>\n    <tr>\n      <th>77002</th>\n      <td>1245</td>\n    </tr>\n    <tr>\n      <th>77003</th>\n      <td>578</td>\n    </tr>\n    <tr>\n      <th>77004</th>\n      <td>1550</td>\n    </tr>\n    <tr>\n      <th>77005</th>\n      <td>304</td>\n    </tr>\n    <tr>\n      <th>...</th>\n      <td>...</td>\n    </tr>\n    <tr>\n      <th>77701</th>\n      <td>1</td>\n    </tr>\n    <tr>\n      <th>78414</th>\n      <td>2</td>\n    </tr>\n    <tr>\n      <th>78418</th>\n      <td>1</td>\n    </tr>\n    <tr>\n      <th>78501</th>\n      <td>1</td>\n    </tr>\n    <tr>\n      <th>nan</th>\n      <td>786</td>\n    </tr>\n  </tbody>\n</table>\n<p>147 rows × 1 columns</p>\n</div>"
     },
     "metadata": {},
     "output_type": "execute_result",
     "execution_count": 39
    }
   ],
   "source": [
    "\"\"\"\n",
    "Group crime rate by zip code to get the count of crimes per zip code.\n",
    "\"\"\"\n",
    "# Remove dashes from zip-codes\n",
    "def clean_zip(z):\n",
    "    return str(z).split('-')[0]\n",
    "\n",
    "frame['zip_code'] = frame['ZIP Code'].apply(clean_zip)\n",
    "grouped = frame.groupby('zip_code').sum()\n",
    "grouped = pandas.DataFrame(grouped[['Offense\\nCount']])\n",
    "grouped = grouped.rename(columns={'Offense\\nCount': 'offense_count'})\n",
    "grouped.dropna(inplace=True)\n",
    "grouped\n"
   ],
   "metadata": {
    "collapsed": false,
    "pycharm": {
     "name": "#%%\n",
     "is_executing": false
    }
   }
  },
  {
   "cell_type": "code",
   "execution_count": 40,
   "outputs": [],
   "source": [
    "\"\"\"\n",
    "Download boost mobile locations for each zipcode.\n",
    "\"\"\"\n",
    "import requests\n",
    "from collections import defaultdict\n",
    "\n",
    "frame = None\n",
    "stores_in_zip = defaultdict(int)\n",
    "for z in grouped.index.values:\n",
    "    # print(z)\n",
    "    num_stores = 0\n",
    "    page = 1\n",
    "    while True:\n",
    "        url = f'https://boostmobile.nearestoutlet.com/cgi-bin/jsonsearch-cs.pl?showCaseInd=false&brandId=bst&results=50&zipcode={z}&page={page}'\n",
    "        response = requests.get(url)\n",
    "        # with open(os.path.join(os.path.abspath(''), 'outlet.json'), 'wb') as f:\n",
    "        #     f.write(response.content)\n",
    "        data = response.json()\n",
    "        stores = data['nearestOutletResponse']['nearestlocationinfolist']['nearestLocationInfo']\n",
    "        pages = data['nearestOutletResponse']['resultsFoundNum'] / 50 + 1\n",
    "        page += 1\n",
    "        num_stores += len(stores)\n",
    "        if page > pages:\n",
    "            break\n",
    "    stores_in_zip[z] = num_stores\n"
   ],
   "metadata": {
    "collapsed": false,
    "pycharm": {
     "name": "#%%\n",
     "is_executing": false
    }
   }
  },
  {
   "cell_type": "code",
   "execution_count": 41,
   "outputs": [
    {
     "data": {
      "text/plain": "          amount_stores\nzip_code               \n75082               318\n77002               384\n77003               380\n77004               371\n77005               375\n...                 ...\n77701                15\n78414                18\n78418                20\n78501                66\nnan                   0\n\n[147 rows x 1 columns]",
      "text/html": "<div>\n<style scoped>\n    .dataframe tbody tr th:only-of-type {\n        vertical-align: middle;\n    }\n\n    .dataframe tbody tr th {\n        vertical-align: top;\n    }\n\n    .dataframe thead th {\n        text-align: right;\n    }\n</style>\n<table border=\"1\" class=\"dataframe\">\n  <thead>\n    <tr style=\"text-align: right;\">\n      <th></th>\n      <th>amount_stores</th>\n    </tr>\n    <tr>\n      <th>zip_code</th>\n      <th></th>\n    </tr>\n  </thead>\n  <tbody>\n    <tr>\n      <th>75082</th>\n      <td>318</td>\n    </tr>\n    <tr>\n      <th>77002</th>\n      <td>384</td>\n    </tr>\n    <tr>\n      <th>77003</th>\n      <td>380</td>\n    </tr>\n    <tr>\n      <th>77004</th>\n      <td>371</td>\n    </tr>\n    <tr>\n      <th>77005</th>\n      <td>375</td>\n    </tr>\n    <tr>\n      <th>...</th>\n      <td>...</td>\n    </tr>\n    <tr>\n      <th>77701</th>\n      <td>15</td>\n    </tr>\n    <tr>\n      <th>78414</th>\n      <td>18</td>\n    </tr>\n    <tr>\n      <th>78418</th>\n      <td>20</td>\n    </tr>\n    <tr>\n      <th>78501</th>\n      <td>66</td>\n    </tr>\n    <tr>\n      <th>nan</th>\n      <td>0</td>\n    </tr>\n  </tbody>\n</table>\n<p>147 rows × 1 columns</p>\n</div>"
     },
     "metadata": {},
     "output_type": "execute_result",
     "execution_count": 41
    }
   ],
   "source": [
    "\"\"\"\n",
    "Converted the dict declared above into a data frame.\n",
    "\"\"\"\n",
    "siz_frame = pandas.DataFrame([dict(zip_code=k, amount_stores=v) for k, v in stores_in_zip.items()])\n",
    "siz_frame.set_index('zip_code', inplace=True)\n",
    "siz_frame.to_csv(os.path.join(os.path.abspath(''), 'stores_in_zip.csv'))\n",
    "siz_frame\n"
   ],
   "metadata": {
    "collapsed": false,
    "pycharm": {
     "name": "#%%\n",
     "is_executing": false
    }
   }
  },
  {
   "cell_type": "code",
   "execution_count": 42,
   "outputs": [
    {
     "data": {
      "text/plain": "               offense_count  amount_stores\noffense_count       1.000000       0.604612\namount_stores       0.604612       1.000000",
      "text/html": "<div>\n<style scoped>\n    .dataframe tbody tr th:only-of-type {\n        vertical-align: middle;\n    }\n\n    .dataframe tbody tr th {\n        vertical-align: top;\n    }\n\n    .dataframe thead th {\n        text-align: right;\n    }\n</style>\n<table border=\"1\" class=\"dataframe\">\n  <thead>\n    <tr style=\"text-align: right;\">\n      <th></th>\n      <th>offense_count</th>\n      <th>amount_stores</th>\n    </tr>\n  </thead>\n  <tbody>\n    <tr>\n      <th>offense_count</th>\n      <td>1.000000</td>\n      <td>0.604612</td>\n    </tr>\n    <tr>\n      <th>amount_stores</th>\n      <td>0.604612</td>\n      <td>1.000000</td>\n    </tr>\n  </tbody>\n</table>\n</div>"
     },
     "metadata": {},
     "output_type": "execute_result",
     "execution_count": 42
    }
   ],
   "source": [
    "\"\"\"\n",
    "Inner join the crime rate by zip code with the number of boost\n",
    "mobile stores by zip code.\n",
    "\"\"\"\n",
    "\n",
    "joined = grouped.join(siz_frame, how='inner')\n",
    "# Drop that weird nan index.\n",
    "joined.drop(index='nan')\n",
    "\n",
    "# Get the correlation.\n",
    "joined.corr()\n"
   ],
   "metadata": {
    "collapsed": false,
    "pycharm": {
     "name": "#%%\n",
     "is_executing": false
    }
   }
  }
 ],
 "metadata": {
  "kernelspec": {
   "name": "pycharm-88915169",
   "language": "python",
   "display_name": "PyCharm (simple_data_analysis)"
  },
  "language_info": {
   "codemirror_mode": {
    "name": "ipython",
    "version": 2
   },
   "file_extension": ".py",
   "mimetype": "text/x-python",
   "name": "python",
   "nbconvert_exporter": "python",
   "pygments_lexer": "ipython2",
   "version": "2.7.6"
  },
  "pycharm": {
   "stem_cell": {
    "cell_type": "raw",
    "source": [],
    "metadata": {
     "collapsed": false
    }
   }
  }
 },
 "nbformat": 4,
 "nbformat_minor": 0
}